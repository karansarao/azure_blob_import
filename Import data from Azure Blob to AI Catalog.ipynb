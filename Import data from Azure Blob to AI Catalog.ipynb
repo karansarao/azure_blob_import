{
	"cells": [
		{
			"id": "650083095ce1eb68edfa2e3f",
			"cell_type": "code",
			"source": "%pip install azure-storage-blob",
			"metadata": {
				"collapsed": false,
				"scrolled": false,
				"datarobot": {
					"language": "python"
				},
				"hide_code": false,
				"hide_results": false,
				"disable_run": false,
				"chart_settings": null,
				"custom_metric_settings": null,
				"dataframe_view_options": null
			},
			"outputs": [
				{
					"output_type": "execute_result",
					"execution_count": 2,
					"data": {
						"text/plain": "Collecting azure-storage-blob\n  Downloading azure_storage_blob-12.17.0-py3-none-any.whl (388 kB)\n\r\u001b[K     |████████████████████████████████| 388 kB 15.1 MB/s \n\u001b[?25hCollecting isodate>=0.6.1\n  Downloading isodate-0.6.1-py2.py3-none-any.whl (41 kB)\n\r\u001b[K     |████████████████████████████████| 41 kB 1.5 MB/s \n\u001b[?25hCollecting azure-core<2.0.0,>=1.28.0\n  Downloading azure_core-1.29.4-py3-none-any.whl (192 kB)\n\r\u001b[K     |████████████████████████████████| 192 kB 66.8 MB/s \n\u001b[?25hRequirement already satisfied: cryptography>=2.1.4 in /etc/system/kernel/.venv/lib/python3.9/site-packages (from azure-storage-blob) (41.0.3)\nRequirement already satisfied: typing-extensions>=4.3.0 in /etc/system/kernel/.venv/lib/python3.9/site-packages (from azure-storage-blob) (4.7.1)\nRequirement already satisfied: six in /etc/system/kernel/.venv/lib/python3.9/site-packages (from isodate>=0.6.1->azure-storage-blob) (1.16.0)\nRequirement already satisfied: requests>=2.18.4 in /etc/system/kernel/.venv/lib/python3.9/site-packages (from azure-core<2.0.0,>=1.28.0->azure-storage-blob) (2.31.0)\nRequirement already satisfied: cffi>=1.12 in /etc/system/kernel/.venv/lib/python3.9/site-packages (from cryptography>=2.1.4->azure-storage-blob) (1.15.1)\nRequirement already satisfied: certifi>=2017.4.17 in /etc/system/kernel/.venv/lib/python3.9/site-packages (from requests>=2.18.4->azure-core<2.0.0,>=1.28.0->azure-storage-blob) (2023.7.22)\nRequirement already satisfied: charset-normalizer<4,>=2 in /etc/system/kernel/.venv/lib/python3.9/site-packages (from requests>=2.18.4->azure-core<2.0.0,>=1.28.0->azure-storage-blob) (3.2.0)\nRequirement already satisfied: urllib3<3,>=1.21.1 in /etc/system/kernel/.venv/lib/python3.9/site-packages (from requests>=2.18.4->azure-core<2.0.0,>=1.28.0->azure-storage-blob) (1.26.16)\nRequirement already satisfied: idna<4,>=2.5 in /etc/system/kernel/.venv/lib/python3.9/site-packages (from requests>=2.18.4->azure-core<2.0.0,>=1.28.0->azure-storage-blob) (3.4)\nRequirement already satisfied: pycparser in /etc/system/kernel/.venv/lib/python3.9/site-packages (from cffi>=1.12->cryptography>=2.1.4->azure-storage-blob) (2.21)\nInstalling collected packages: isodate, azure-core, azure-storage-blob\n"
					},
					"metadata": {}
				},
				{
					"output_type": "execute_result",
					"execution_count": 2,
					"data": {
						"text/plain": "Successfully installed azure-core-1.29.4 azure-storage-blob-12.17.0 isodate-0.6.1\nNote: you may need to restart the kernel to use updated packages.\n"
					},
					"metadata": {}
				}
			],
			"execution_count": null
		},
		{
			"id": "64fb331f005a2db92f0d2379",
			"cell_type": "code",
			"source": "import os\n# Import the Azure Storage SDK\nfrom azure.storage.blob import BlobServiceClient\n# Placeholder for credentials\nstorage_account_name = \"demokaran\"\nstorage_account_key = os.environ['azure_key']\n\n# Create the BlobServiceClient object\nblob_service_client = BlobServiceClient.from_connection_string(\n    f\"DefaultEndpointsProtocol=https;AccountName={storage_account_name};AccountKey={storage_account_key};EndpointSuffix=core.windows.net\")\n\n# Get the container client\ncontainer_client = blob_service_client.get_container_client(\"demo\")\n\n# Get the blob client\nblob_client = container_client.get_blob_client(\"PlantDisease.zip\")\n\n# Download the blob to a file\nwith open(\"PlantDisease.zip\", \"wb\") as download_file:\n    download_file.write(blob_client.download_blob().readall())",
			"metadata": {
				"name": "First Cell",
				"collapsed": true,
				"scrolled": "auto",
				"datarobot": {
					"language": "python"
				},
				"hide_code": false,
				"hide_results": false,
				"disable_run": false,
				"chart_settings": null,
				"custom_metric_settings": null,
				"dataframe_view_options": null
			},
			"outputs": [],
			"execution_count": null
		},
		{
			"id": "65008830b820931f6a723e2b",
			"cell_type": "code",
			"source": "import datarobot as dr\ndr.Client()\ndr.Dataset.create_from_file(file_path='PlantDisease.zip')",
			"metadata": {
				"collapsed": false,
				"scrolled": false,
				"datarobot": {
					"language": "python"
				},
				"hide_code": false,
				"hide_results": false,
				"disable_run": false,
				"chart_settings": null,
				"custom_metric_settings": null,
				"dataframe_view_options": null
			},
			"outputs": [
				{
					"output_type": "execute_result",
					"execution_count": 7,
					"data": {
						"text/plain": "Dataset(name='PlantDisease.zip', id='65008af035125de8b81a7988')"
					},
					"metadata": {}
				}
			],
			"execution_count": null
		}
	],
	"metadata": {
		"kernelspec": {
			"name": "python",
			"language": "python",
			"display_name": "Python 3.9.16"
		},
		"language_info": {
			"name": "python",
			"version": ""
		}
	},
	"nbformat": 4,
	"nbformat_minor": 5
}